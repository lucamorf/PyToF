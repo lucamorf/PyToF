{
 "cells": [
  {
   "cell_type": "code",
   "execution_count": 1,
   "id": "2486ffa0-feb9-42d1-a387-af4d396d470a",
   "metadata": {},
   "outputs": [],
   "source": [
    "import numpy as np\n",
    "import matplotlib.pyplot as plt\n",
    "from matplotlib.legend_handler import HandlerTuple\n",
    "import sys\n",
    "import time\n",
    "import multiprocessing\n",
    "from tqdm import tqdm\n",
    "\n",
    "from PyToF import ClassToF"
   ]
  },
  {
   "cell_type": "code",
   "execution_count": 2,
   "id": "0fe135f3-214d-48bf-aa43-84e0b6878a03",
   "metadata": {},
   "outputs": [],
   "source": [
    "def Movshovitz(args):\n",
    "\n",
    "    N, order, alphas = args\n",
    "\n",
    "    sys.path.append('nmovshov_ToFPlanet/')\n",
    "    import TOFPlanet \n",
    "\n",
    "    res = TOFPlanet.TOFPlanet(  N          = N,\n",
    "                                nx         = -1,\n",
    "                                toforder   = order,\n",
    "                                dJtol      = 1e-10,\n",
    "                                drottol    = 1e-10,\n",
    "                                drhotol    = 1e-10,\n",
    "                                MaxIterHE  = 2,\n",
    "                                MaxIterBar = 100,\n",
    "                                verbosity  = 0,\n",
    "                                )\n",
    "\n",
    "    res.G           = 6.6738480e-11                                         #m^3kg^-1s^-2\n",
    "    res.GM          = 126686536.1*(1000)**3                                 #m^3s^-2\n",
    "    res.mass        = res.GM/res.G                                          #kg\n",
    "    res.radius      = 71492000                                              #m         \n",
    "    res.period      = 2*np.pi/np.sqrt((res.GM*0.089195487)/(res.radius**3)) #s\n",
    "    res.P0          = 0\n",
    "\n",
    "    res.si          = res.radius*np.linspace(1, 1/N, N) \n",
    "    res.rhoi        = np.ones(N)*res.mass/(4*np.pi/3*res.radius**3)\n",
    "\n",
    "    def barotrope(P): return np.sqrt(P)\n",
    "    res.set_barotrope(barotrope)\n",
    "\n",
    "    tic = time.time()\n",
    "    res.relax_to_barotrope()\n",
    "    toc = time.time()\n",
    "\n",
    "    return toc-tic, np.hstack([res.aos, res.Js[1:]])"
   ]
  },
  {
   "cell_type": "code",
   "execution_count": 3,
   "id": "e6bb109b-47ca-4f18-96d1-27bb34f77ed3",
   "metadata": {},
   "outputs": [],
   "source": [
    "def Morf(args):\n",
    "\n",
    "    N, nx, order, alphas = args\n",
    "\n",
    "    res = ClassToF.ToF(N = N, nx = nx, order = order, alphas = alphas, verbosity=0)\n",
    "    \n",
    "    def barotrope(P, param): return np.sqrt(P)\n",
    "    res.set_barotrope(barotrope)\n",
    "\n",
    "    tic = time.time()\n",
    "    res.relax_to_barotrope(fixradius=True, fixmass=True, fixrot=True, pressurize=True)\n",
    "    toc = time.time()\n",
    "\n",
    "    return toc-tic, np.hstack([res.R_ratio, res.Js[1:]])"
   ]
  },
  {
   "cell_type": "code",
   "execution_count": 4,
   "id": "a677e5c0-e3a0-4da4-b5c7-15b1c1abc660",
   "metadata": {},
   "outputs": [],
   "source": [
    "def get_res(Ns, steps, alphas):\n",
    "\n",
    "    res_04_Morf = np.zeros((len(Ns), 5, len(steps)))\n",
    "    res_07_Morf = np.zeros((len(Ns), 8, len(steps)))\n",
    "    res_10_Morf = np.zeros((len(Ns), 11,len(steps)))\n",
    "\n",
    "    res_04_Movs = np.zeros((len(Ns), 5))\n",
    "    res_07_Movs = np.zeros((len(Ns), 8))\n",
    "\n",
    "    time_04_Morf = np.zeros((len(Ns), len(steps)))\n",
    "    time_07_Morf = np.zeros((len(Ns), len(steps)))\n",
    "    time_10_Morf = np.zeros((len(Ns), len(steps)))\n",
    "\n",
    "    time_04_Movs = np.zeros(len(Ns))\n",
    "    time_07_Movs = np.zeros(len(Ns))\n",
    "\n",
    "    tasks_04_Morf = [(int(Ns[i]), int(Ns[i]/steps[j]), 4,  alphas) for i in range(len(Ns)) for j in range(len(steps))]\n",
    "    tasks_07_Morf = [(int(Ns[i]), int(Ns[i]/steps[j]), 7,  alphas) for i in range(len(Ns)) for j in range(len(steps))]\n",
    "    tasks_10_Morf = [(int(Ns[i]), int(Ns[i]/steps[j]), 10, alphas) for i in range(len(Ns)) for j in range(len(steps))]\n",
    "\n",
    "    coord_Morf = [(i,j) for i in range(len(Ns)) for j in range(len(steps))]\n",
    "\n",
    "    tasks_04_Movs = [(int(Ns[i]), 4, alphas) for i in range(len(Ns))]\n",
    "    tasks_07_Movs = [(int(Ns[i]), 7, alphas) for i in range(len(Ns))]\n",
    "\n",
    "    \"\"\"\n",
    "    for i in range(len(Ns)):\n",
    "\n",
    "        time_04_Movs[i], res_04_Movs[i,:] = Movshovitz(int(Ns[i]), 4, alphas)\n",
    "        time_07_Movs[i], res_07_Movs[i,:] = Movshovitz(int(Ns[i]), 7, alphas)\n",
    "\n",
    "        for j in range(len(steps)):\n",
    "    \n",
    "            time_04_Morf[i,j], res_04_Morf[i,:,j] = Morf(int(Ns[i]), int(Ns[i]/steps[j]), 4,  alphas)\n",
    "            time_07_Morf[i,j], res_07_Morf[i,:,j] = Morf(int(Ns[i]), int(Ns[i]/steps[j]), 7,  alphas)\n",
    "            time_10_Morf[i,j], res_10_Morf[i,:,j] = Morf(int(Ns[i]), int(Ns[i]/steps[j]), 10, alphas)\n",
    "\n",
    "            print()\n",
    "            print('N =', int(Ns[i]), 'and nx =', int(Ns[i]/steps[j]))\n",
    "            print('time_04_Morf:', \"{:.2f}\".format(time_04_Morf[i,j]), 's', 'time_07_Morf:', \"{:.2f}\".format(time_07_Morf[i,j]), 's', 'time_10_Morf:', \"{:.2f}\".format(time_10_Morf[i,j]), 's')\n",
    "            print('time_04_Movs:', \"{:.2f}\".format(time_04_Movs[i]),   's', 'time_07_Movs:', \"{:.2f}\".format(time_07_Movs[i]),   's')\n",
    "    \"\"\"\n",
    "\n",
    "    with multiprocessing.Pool() as pool:\n",
    "\n",
    "        print('4th order Theory of Figures, Morf:')\n",
    "        all_04_Morf = list(tqdm(pool.imap(Morf, tasks_04_Morf), total=len(tasks_04_Morf)))\n",
    "        \n",
    "        print('7th order Theory of Figures, Morf:')\n",
    "        all_07_Morf = list(tqdm(pool.imap(Morf, tasks_07_Morf), total=len(tasks_07_Morf)))\n",
    "\n",
    "        print('10th order Theory of Figures, Morf:')\n",
    "        all_10_Morf = list(tqdm(pool.imap(Morf, tasks_10_Morf), total=len(tasks_10_Morf)))\n",
    "\n",
    "        print('4th order Theory of Figures, Movshovitz:')\n",
    "        all_04_Movs = list(tqdm(pool.imap(Movshovitz, tasks_04_Movs), total=len(tasks_04_Movs)))\n",
    "        \n",
    "        print('7th order Theory of Figures, Movshovitz:')\n",
    "        all_07_Movs = list(tqdm(pool.imap(Movshovitz, tasks_07_Movs), total=len(tasks_07_Movs)))\n",
    "\n",
    "    for i in range(len(all_04_Morf)):\n",
    "\n",
    "        time_04_Morf[coord_Morf[i][0],  coord_Morf[i][1]] = all_04_Morf[i][0]\n",
    "        res_04_Morf[ coord_Morf[i][0],:,coord_Morf[i][1]] = all_04_Morf[i][1]   \n",
    "\n",
    "        time_07_Morf[coord_Morf[i][0],  coord_Morf[i][1]] = all_07_Morf[i][0]\n",
    "        res_07_Morf[ coord_Morf[i][0],:,coord_Morf[i][1]] = all_07_Morf[i][1] \n",
    "\n",
    "        time_10_Morf[coord_Morf[i][0],  coord_Morf[i][1]] = all_10_Morf[i][0]\n",
    "        res_10_Morf[ coord_Morf[i][0],:,coord_Morf[i][1]] = all_10_Morf[i][1]  \n",
    "\n",
    "    for i in range(len(all_04_Movs)):\n",
    "\n",
    "        time_04_Movs[i]  = all_04_Movs[i][0]\n",
    "        res_04_Movs[i,:] = all_04_Movs[i][1]\n",
    "\n",
    "        time_07_Movs[i]  = all_07_Movs[i][0]\n",
    "        res_07_Movs[i,:] = all_07_Movs[i][1]\n",
    "\n",
    "    return res_04_Morf, res_07_Morf, res_10_Morf, res_04_Movs, res_07_Movs, time_04_Morf, time_07_Morf, time_10_Morf, time_04_Movs, time_07_Movs"
   ]
  },
  {
   "cell_type": "code",
   "execution_count": 5,
   "id": "a30c8d2b-5d91-4d47-956c-2f1a8f1b4c0a",
   "metadata": {},
   "outputs": [],
   "source": [
    "def plot_res(Ns, steps, alphas, res_analytical, what):\n",
    "\n",
    "    res_04_Morf, res_07_Morf, res_10_Morf, res_04_Movs, res_07_Movs, time_04_Morf, time_07_Morf, time_10_Morf, time_04_Movs, time_07_Movs = get_res(Ns, steps, alphas)\n",
    "\n",
    "    titles = [  r'Mean radius / equatorial radius', r'$J_{2}$', r'$J_{4}$', r'$J_{6}$', r'$J_{8}$', r'$J_{10}$', r'$J_{12}$', r'$J_{14}$', r'$J_{16}$', r'$J_{18}$', r'$J_{20}$', None]\n",
    "    names  = [  'R_ratio', 'J_2', 'J_4', 'J_6', 'J_8', 'J_10', 'J_12', 'J_14', 'J_16', 'J_18', 'J_20', 'time']\n",
    "\n",
    "    styles = ['solid', 'dashed']\n",
    "\n",
    "    # Plot data on each subplot\n",
    "    for i in range(12):\n",
    "\n",
    "        fig = plt.figure(layout='constrained')\n",
    "        ax  = fig.gca()\n",
    "\n",
    "        for j in range(len(steps)):\n",
    "\n",
    "            step = steps[j]\n",
    "\n",
    "            if i<5:\n",
    "\n",
    "                ax.plot(Ns, np.abs((res_04_Morf[:,i,j] - res_analytical[i]) / res_analytical[i]), \"o\", linestyle = styles[j], color = 'C0', ms = 8)\n",
    "\n",
    "                if  j==0:\n",
    "\n",
    "                    if np.max(alphas) == 0:\n",
    "                        ax.plot(Ns, np.abs((res_04_Movs[:,i] - res_analytical[i]) / res_analytical[i]), \"X\", linestyle = styles[j], color = 'C0', ms = 9)\n",
    "\n",
    "            if i<8:\n",
    "\n",
    "                ax.plot(Ns, np.abs((res_07_Morf[:,i,j] - res_analytical[i]) / res_analytical[i]), \"o\", linestyle = styles[j], color = 'C1', ms = 6)\n",
    "\n",
    "                if  j==0:\n",
    "\n",
    "                    if np.max(alphas) == 0:\n",
    "                        ax.plot(Ns, np.abs((res_07_Movs[:,i] - res_analytical[i]) / res_analytical[i]), \"X\", linestyle = styles[j], color = 'C1', ms = 7)\n",
    "\n",
    "            if i<11:\n",
    "\n",
    "                ax.plot(Ns, np.abs((res_10_Morf[:,i,j] - res_analytical[i]) / res_analytical[i]), \"o\", linestyle = styles[j], color = 'C2', ms = 4)\n",
    "\n",
    "            if i==11:\n",
    "                \n",
    "                ax.plot(Ns, time_04_Morf[:,j], \"o\", linestyle = styles[j], color = 'C0', ms = 8)\n",
    "                ax.plot(Ns, time_07_Morf[:,j], \"o\", linestyle = styles[j], color = 'C1', ms = 6)\n",
    "                ax.plot(Ns, time_10_Morf[:,j], \"o\", linestyle = styles[j], color = 'C2', ms = 4)\n",
    "\n",
    "                if j==0:\n",
    "\n",
    "                    if np.max(alphas) == 0:\n",
    "                        ax.plot(Ns, time_04_Movs, \"X\", linestyle = styles[j], color = 'C0', ms = 9)\n",
    "                        ax.plot(Ns, time_07_Movs, \"X\", linestyle = styles[j], color = 'C1', ms = 7)\n",
    "\n",
    "        p1, = ax.plot(np.nan, np.nan, linestyle='solid',  color = 'C0')\n",
    "        p2, = ax.plot(np.nan, np.nan, linestyle='solid',  color = 'C1')\n",
    "        p3, = ax.plot(np.nan, np.nan, linestyle='solid',  color = 'C2')\n",
    "        p4, = ax.plot(np.nan, np.nan, linestyle='solid',  color = 'black')\n",
    "        p5, = ax.plot(np.nan, np.nan, linestyle='dashed', color = 'black')\n",
    "        if np.max(alphas) == 0:\n",
    "            p6, = ax.plot(np.nan, np.nan, \"o\", color = 'black')\n",
    "            p7, = ax.plot(np.nan, np.nan, \"X\", color = 'black')\n",
    "\n",
    "        ax.set_xscale('log', base=2)\n",
    "\n",
    "        if i!=0 or what=='Bessel': \n",
    "\n",
    "            ax.set_yscale('log')\n",
    "\n",
    "        ax.set_title(titles[i], fontsize=20)\n",
    "        ax.set_xlabel(r'$N$', fontsize=20)\n",
    "\n",
    "        if i !=11:\n",
    "\n",
    "            ax.set_ylabel('Rel. diff. to ref solution'.replace(\"ref\", what), fontsize=20)\n",
    "\n",
    "        else:\n",
    "\n",
    "            ax.set_ylabel('runtime [s]', fontsize=20)\n",
    "\n",
    "        ax.set_xmargin(0.05)\n",
    "        ax.set_ymargin(0.05)\n",
    "        ax.tick_params(axis='both', which='major', labelsize=20)\n",
    "        \n",
    "        if np.max(alphas) == 0:\n",
    "            ax.legend([(p1,p2,p3),p4,p5,p6,p7], ['ToF 4, 7, 10', r'$n_x = N$' , r'$n_x = \\frac{N}{32}$' , 'Morf+ 24', 'M&F 22'], handler_map={tuple: HandlerTuple(ndivide=None)}, ncol=2, fontsize=12)\n",
    "        else:\n",
    "            ax.legend([(p1,p2,p3),p4,p5], ['ToF 4, 7, 10', r'$n_x = N$' , r'$n_x = \\frac{N}{32}$'], handler_map={tuple: HandlerTuple(ndivide=None)}, ncol=2, fontsize=12)\n",
    "\n",
    "        fig.savefig('PyToF_Accuracy_and_Convergence_Images/' + names[i] +  '_' + what + '.png', dpi=200, format='png', bbox_inches='tight')"
   ]
  },
  {
   "cell_type": "code",
   "execution_count": 6,
   "id": "9884f76d-20aa-41b0-aa02-e7fc7c40dcc0",
   "metadata": {},
   "outputs": [],
   "source": [
    "#Numbers are taken from Wisdom & Hubbard 2016, Differential rotation in Jupiter: A comparison of methods: \n",
    "Bessel  = np.array([1.022875431133174e0, 1.398851089834702e-2, -5.318281001092907e-4, 3.011832290533641e-5, -2.132115710725050e-6, 1.740671195871128e-7, -1.568219505602588e-8,  1.518099230068580e-9, -1.551985393081485e-10, 1.655948019619652e-11, -1.829544870258362e-12])\n",
    "CMSDR2  = np.array([np.nan,              1.399685529663848e-2, -5.358080750264726e-4, 3.159100841281628e-5, -2.626580737287536e-6, 2.745394255627955e-7, -3.247718410175606e-8,  4.106439257702602e-9, -5.430942499498113e-10, 7.456525895586537e-11, -1.057232912152619e-11])\n",
    "CMSDR3  = np.array([np.nan,              1.399739489765669e-2, -5.358967290243679e-4, 3.163072519976169e-5, -2.715682955893595e-6, 3.482051102658201e-7,  1.908012504014946e-8, -1.019589599416940e-7,  1.028205395308815e-7, -2.636937795839493e-8,  -3.593890869111017e-8  ])\n",
    "\n",
    "\n",
    "Ns      = 2**np.linspace(7,15,9)\n",
    "steps   = [1, 32]"
   ]
  },
  {
   "cell_type": "code",
   "execution_count": null,
   "id": "4ab8c590-2ecd-42fe-867d-89cd196f5620",
   "metadata": {},
   "outputs": [
    {
     "name": "stdout",
     "output_type": "stream",
     "text": [
      "4th order Theory of Figures, Morf:\n"
     ]
    },
    {
     "name": "stderr",
     "output_type": "stream",
     "text": [
      " 83%|██████████████████████████████████████████████████████████████████████              | 15/18 [00:05<00:01,  1.84it/s]"
     ]
    },
    {
     "name": "stdout",
     "output_type": "stream",
     "text": [
      "\n",
      "\u001b[91mConvergence warning: \u001b[92mdrot_tol = \u001b[96m9e-16\u001b[92m < \u001b[96m1e-10\u001b[92m, dJ_tol = \u001b[96m1e-14\u001b[92m < \u001b[96m1e-10\u001b[91m, drho_tol = \u001b[96m3e-10\u001b[91m > \u001b[96m1e-10\u001b[91m after MaxIterBar = \u001b[96m100\u001b[91m iterations.\u001b[0m\n",
      "\n",
      "\u001b[91mConvergence warning: \u001b[92mdrot_tol = \u001b[96m1e-16\u001b[92m < \u001b[96m1e-10\u001b[92m, dJ_tol = \u001b[96m3e-14\u001b[92m < \u001b[96m1e-10\u001b[91m, drho_tol = \u001b[96m2e-10\u001b[91m > \u001b[96m1e-10\u001b[91m after MaxIterBar = \u001b[96m100\u001b[91m iterations.\u001b[0m\n"
     ]
    },
    {
     "name": "stderr",
     "output_type": "stream",
     "text": [
      "100%|████████████████████████████████████████████████████████████████████████████████████| 18/18 [00:14<00:00,  1.28it/s]\n"
     ]
    },
    {
     "name": "stdout",
     "output_type": "stream",
     "text": [
      "7th order Theory of Figures, Morf:\n"
     ]
    },
    {
     "name": "stderr",
     "output_type": "stream",
     "text": [
      " 83%|██████████████████████████████████████████████████████████████████████              | 15/18 [00:11<00:03,  1.10s/it]"
     ]
    },
    {
     "name": "stdout",
     "output_type": "stream",
     "text": [
      "\n",
      "\u001b[91mConvergence warning: \u001b[92mdrot_tol = \u001b[96m1e-16\u001b[92m < \u001b[96m1e-10\u001b[92m, dJ_tol = \u001b[96m3e-13\u001b[92m < \u001b[96m1e-10\u001b[91m, drho_tol = \u001b[96m3e-10\u001b[91m > \u001b[96m1e-10\u001b[91m after MaxIterBar = \u001b[96m100\u001b[91m iterations.\u001b[0m\n",
      "\n",
      "\u001b[91mConvergence warning: \u001b[92mdrot_tol = \u001b[96m2e-16\u001b[92m < \u001b[96m1e-10\u001b[92m, dJ_tol = \u001b[96m2e-14\u001b[92m < \u001b[96m1e-10\u001b[91m, drho_tol = \u001b[96m3e-10\u001b[91m > \u001b[96m1e-10\u001b[91m after MaxIterBar = \u001b[96m100\u001b[91m iterations.\u001b[0m\n"
     ]
    },
    {
     "name": "stderr",
     "output_type": "stream",
     "text": [
      "100%|████████████████████████████████████████████████████████████████████████████████████| 18/18 [00:33<00:00,  1.87s/it]\n"
     ]
    },
    {
     "name": "stdout",
     "output_type": "stream",
     "text": [
      "10th order Theory of Figures, Morf:\n"
     ]
    },
    {
     "name": "stderr",
     "output_type": "stream",
     "text": [
      " 72%|████████████████████████████████████████████████████████████▋                       | 13/18 [00:19<00:09,  1.94s/it]"
     ]
    },
    {
     "name": "stdout",
     "output_type": "stream",
     "text": [
      "\n",
      "\u001b[91mConvergence warning: \u001b[92mdrot_tol = \u001b[96m0e+00\u001b[92m < \u001b[96m1e-10\u001b[92m, dJ_tol = \u001b[96m3e-13\u001b[92m < \u001b[96m1e-10\u001b[91m, drho_tol = \u001b[96m5e-10\u001b[91m > \u001b[96m1e-10\u001b[91m after MaxIterBar = \u001b[96m100\u001b[91m iterations.\u001b[0m\n"
     ]
    },
    {
     "name": "stderr",
     "output_type": "stream",
     "text": [
      " 83%|██████████████████████████████████████████████████████████████████████              | 15/18 [00:37<00:13,  4.34s/it]"
     ]
    }
   ],
   "source": [
    "alphas = np.zeros(12)\n",
    "plot_res(Ns, steps, alphas, Bessel, 'Bessel')"
   ]
  },
  {
   "cell_type": "code",
   "execution_count": null,
   "id": "7a8cf13a-0148-4d0b-924c-6106aff95ee8",
   "metadata": {},
   "outputs": [],
   "source": [
    "A2 = -5.8954166431924311100e-2 * 1e6 # m^2 s^-2\n",
    "A4 =  4.6123389620922838894e-1 * 1e6 # m^2 s^-2\n",
    "A6 = -1.0426642770099761037e0  * 1e6 # m^2 s^-2\n",
    "A8 =  8.3030636453130002295e-1 * 1e6 # m^2 s^-2\n",
    "\n",
    "alphas = np.array([A2, A4, A6, A8, 0, 0, 0, 0, 0, 0, 0, 0])\n",
    "plot_res(Ns, steps, alphas, CMSDR2, 'CMS_DR2')"
   ]
  },
  {
   "cell_type": "code",
   "execution_count": null,
   "id": "a13622ce-e95e-4961-a518-e2bf167f7dc4",
   "metadata": {},
   "outputs": [],
   "source": [
    "A2  = -5.4553556626624011283e-1 * 1e6 # m^2 s^-2\n",
    "A4  =  2.0659730767589977063e1  * 1e6 # m^2 s^-2\n",
    "A6  = -2.9751201811994826585e2  * 1e6 # m^2 s^-2\n",
    "A8  =  2.1388899216795743996e3  * 1e6 # m^2 s^-2\n",
    "A10 = -8.7087211563139935606e3  * 1e6 # m^2 s^-2\n",
    "A12 =  2.1342828803262666042e4  * 1e6 # m^2 s^-2\n",
    "A14 = -3.2058440847282883624e4  * 1e6 # m^2 s^-2\n",
    "A16 =  2.8850390979208579665e4  * 1e6 # m^2 s^-2\n",
    "A18 = -1.4264411879490267893e4  * 1e6 # m^2 s^-2\n",
    "A20 =  2.9770389071934714593e3  * 1e6 # m^2 s^-2\n",
    "\n",
    "alphas = np.array([A2, A4, A6, A8, A10, A12, A14, A16, A18, A20, 0, 0])\n",
    "plot_res(Ns, steps, alphas, CMSDR3, 'CMS_DR3')"
   ]
  }
 ],
 "metadata": {
  "kernelspec": {
   "display_name": "Python 3 (ipykernel)",
   "language": "python",
   "name": "python3"
  },
  "language_info": {
   "codemirror_mode": {
    "name": "ipython",
    "version": 3
   },
   "file_extension": ".py",
   "mimetype": "text/x-python",
   "name": "python",
   "nbconvert_exporter": "python",
   "pygments_lexer": "ipython3",
   "version": "3.10.12"
  }
 },
 "nbformat": 4,
 "nbformat_minor": 5
}
