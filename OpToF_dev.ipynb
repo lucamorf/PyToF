{
 "cells": [
  {
   "cell_type": "code",
   "execution_count": 1,
   "id": "0dc5682e-5b52-411c-87c7-6d803d33b8cf",
   "metadata": {},
   "outputs": [],
   "source": [
    "from PyToF import OptToF\n",
    "from PyToF import ClassToF"
   ]
  },
  {
   "cell_type": "code",
   "execution_count": 2,
   "id": "6feb9fa1-66d4-4e64-b63f-b41955be00a7",
   "metadata": {},
   "outputs": [
    {
     "name": "stdout",
     "output_type": "stream",
     "text": [
      "\u001b[91mNo reference radius supplied by the user. PyToF assumes R_ref = R_phys.\u001b[0m\n"
     ]
    }
   ],
   "source": [
    "kwargs = {}\n",
    "\n",
    "kwargs['N']      = 2**10\n",
    "kwargs['G']      = 6.6743e-11\n",
    "kwargs['M_phys'] = 86.8127e24\n",
    "kwargs['R_phys'] = [25559*1e3, 'mean']\n",
    "kwargs['Period'] = 62080\n",
    "kwargs['P0']     = 1e5\n",
    "kwargs['Target_Js'] = [3509.291e-6, -35.522e-6] #https://doi.org/10.1051/0004-6361/202244537\n",
    "kwargs['Sigma_Js']  = [0.412e-6, 0.466e-6] #https://doi.org/10.1051/0004-6361/202244537\n",
    "kwargs['verbosity'] = 0\n",
    "kwargs['MaxIterShape'] = 100\n",
    "kwargs['use_atmosphere']      = True\n",
    "kwargs['atmosphere_until']    = 1e7\n",
    "\n",
    "param = [3.47500669e+05, 2.62723392e+00]\n",
    "\n",
    "def atmosphere(norm_radii, pressure, param=param):\n",
    "    return (pressure/param[0])**(param[1]/(param[1]+1))\n",
    "\n",
    "kwargs['atmosphere'] = atmosphere\n",
    "\n",
    "X = ClassToF.ToF(**kwargs)"
   ]
  },
  {
   "cell_type": "code",
   "execution_count": 3,
   "id": "6dfff2be-597b-4125-aa87-247d25729679",
   "metadata": {},
   "outputs": [
    {
     "name": "stdout",
     "output_type": "stream",
     "text": [
      "\n",
      "ToF.rhoi[:index] [0.00000e+00 3.24709e-01 1.17857e+00 2.28884e+00 3.76868e+00 5.53828e+00\n",
      " 7.34818e+00 9.68692e+00]\n",
      "goal_rhoi [4.05678e-01 7.29104e-01 1.57959e+00 2.68547e+00 4.15946e+00 5.92206e+00\n",
      " 7.72481e+00 1.00543e+01]\n",
      "\n"
     ]
    },
    {
     "ename": "Exception",
     "evalue": "\u001b[91mAtmosphere enforcement failed!\u001b[0m",
     "output_type": "error",
     "traceback": [
      "\u001b[0;31m---------------------------------------------------------------------------\u001b[0m",
      "\u001b[0;31mException\u001b[0m                                 Traceback (most recent call last)",
      "Cell \u001b[0;32mIn[3], line 20\u001b[0m\n\u001b[1;32m     16\u001b[0m kwargs[\u001b[38;5;124m'\u001b[39m\u001b[38;5;124mminimum increase\u001b[39m\u001b[38;5;124m'\u001b[39m] \u001b[38;5;241m=\u001b[39m \u001b[38;5;241m1\u001b[39m\n\u001b[1;32m     18\u001b[0m Optimiser \u001b[38;5;241m=\u001b[39m OptToF(\u001b[38;5;241m*\u001b[39m\u001b[38;5;241m*\u001b[39mkwargs)\n\u001b[0;32m---> 20\u001b[0m \u001b[43mOptimiser\u001b[49m\u001b[38;5;241;43m.\u001b[39;49m\u001b[43mrun\u001b[49m\u001b[43m(\u001b[49m\u001b[43mX\u001b[49m\u001b[43m)\u001b[49m\n",
      "File \u001b[0;32m~/Code/PyToF_dev/PyToF/StenOpt/ClassOpt.py:143\u001b[0m, in \u001b[0;36mOptToF.run\u001b[0;34m(self, ToF)\u001b[0m\n\u001b[1;32m    141\u001b[0m m \u001b[38;5;241m=\u001b[39m multiprocessing\u001b[38;5;241m.\u001b[39mManager()\n\u001b[1;32m    142\u001b[0m lock \u001b[38;5;241m=\u001b[39m m\u001b[38;5;241m.\u001b[39mLock()\n\u001b[0;32m--> 143\u001b[0m \u001b[43mcategoriser\u001b[49m\u001b[43m(\u001b[49m\u001b[38;5;28;43mself\u001b[39;49m\u001b[43m,\u001b[49m\u001b[43m \u001b[49m\u001b[43mToF\u001b[49m\u001b[43m,\u001b[49m\u001b[43m \u001b[49m\u001b[43mlock\u001b[49m\u001b[43m)\u001b[49m\n",
      "File \u001b[0;32m~/Code/PyToF_dev/PyToF/StenOpt/ClassOpt.py:177\u001b[0m, in \u001b[0;36mcategoriser\u001b[0;34m(OptToF, ToF, lock)\u001b[0m\n\u001b[1;32m    172\u001b[0m signal\u001b[38;5;241m.\u001b[39msignal(signal\u001b[38;5;241m.\u001b[39mSIGINT, OptToF\u001b[38;5;241m.\u001b[39minterrupt_handler)\n\u001b[1;32m    174\u001b[0m \u001b[38;5;28;01mwhile\u001b[39;00m \u001b[38;5;28;01mTrue\u001b[39;00m: \u001b[38;5;66;03m#This is always a good idea\u001b[39;00m\n\u001b[1;32m    175\u001b[0m \n\u001b[1;32m    176\u001b[0m     \u001b[38;5;66;03m#Run Optimisation\u001b[39;00m\n\u001b[0;32m--> 177\u001b[0m     starting_distr, result_distr, ToF \u001b[38;5;241m=\u001b[39m \u001b[43mrun_opt\u001b[49m\u001b[43m(\u001b[49m\u001b[43mOptToF\u001b[49m\u001b[43m,\u001b[49m\u001b[43m \u001b[49m\u001b[43mToF\u001b[49m\u001b[43m)\u001b[49m\n\u001b[1;32m    179\u001b[0m     \u001b[38;5;66;03m#Categorise success/fail\u001b[39;00m\n\u001b[1;32m    180\u001b[0m     are_Js_explained \u001b[38;5;241m=\u001b[39m \u001b[38;5;28;01mTrue\u001b[39;00m\n",
      "File \u001b[0;32m~/Code/PyToF_dev/PyToF/StenOpt/ClassOpt.py:334\u001b[0m, in \u001b[0;36mrun_opt\u001b[0;34m(OptToF, ToF)\u001b[0m\n\u001b[1;32m    330\u001b[0m \u001b[38;5;66;03m# ====================================== MAIN OPTIMISATION LOOP ======================================\u001b[39;00m\n\u001b[1;32m    332\u001b[0m \u001b[38;5;28;01mfor\u001b[39;00m step \u001b[38;5;129;01min\u001b[39;00m \u001b[38;5;28mrange\u001b[39m(steps):\n\u001b[0;32m--> 334\u001b[0m     params \u001b[38;5;241m=\u001b[39m \u001b[43mopt_step\u001b[49m\u001b[43m(\u001b[49m\u001b[43mAdamOptimiser\u001b[49m\u001b[43m,\u001b[49m\u001b[43m \u001b[49m\u001b[43mOptToF\u001b[49m\u001b[43m,\u001b[49m\u001b[43m \u001b[49m\u001b[43mToF\u001b[49m\u001b[43m,\u001b[49m\u001b[43m \u001b[49m\u001b[43mparams\u001b[49m\u001b[43m)\u001b[49m\n\u001b[1;32m    335\u001b[0m     params \u001b[38;5;241m=\u001b[39m fix_params(params, OptToF\u001b[38;5;241m.\u001b[39mweights, OptToF\u001b[38;5;241m.\u001b[39mopts[\u001b[38;5;124m'\u001b[39m\u001b[38;5;124mminimum increase\u001b[39m\u001b[38;5;124m'\u001b[39m])\n\u001b[1;32m    336\u001b[0m     cost_vector\u001b[38;5;241m.\u001b[39mappend(calc_cost(ToF))\n",
      "File \u001b[0;32m~/Code/PyToF_dev/PyToF/StenOpt/OptToF.py:236\u001b[0m, in \u001b[0;36mopt_step\u001b[0;34m(Optimiser, OptToF, ToF, params)\u001b[0m\n\u001b[1;32m    235\u001b[0m \u001b[38;5;28;01mdef\u001b[39;00m \u001b[38;5;21mopt_step\u001b[39m(Optimiser, OptToF, ToF, params):\n\u001b[0;32m--> 236\u001b[0m     \u001b[38;5;28;01mreturn\u001b[39;00m Optimiser\u001b[38;5;241m.\u001b[39mupdate(params, \u001b[43mfull_gradient\u001b[49m\u001b[43m(\u001b[49m\u001b[43mOptToF\u001b[49m\u001b[43m,\u001b[49m\u001b[43m \u001b[49m\u001b[43mToF\u001b[49m\u001b[43m,\u001b[49m\u001b[43m \u001b[49m\u001b[43mparams\u001b[49m\u001b[43m)\u001b[49m)\n",
      "File \u001b[0;32m~/Code/PyToF_dev/PyToF/StenOpt/OptToF.py:164\u001b[0m, in \u001b[0;36mfull_gradient\u001b[0;34m(OptToF, ToF, params)\u001b[0m\n\u001b[1;32m    161\u001b[0m         \u001b[38;5;28mprint\u001b[39m(\u001b[38;5;124m'\u001b[39m\u001b[38;5;124mgoal_rhoi\u001b[39m\u001b[38;5;124m'\u001b[39m, goal_rhoi)\n\u001b[1;32m    162\u001b[0m         \u001b[38;5;28mprint\u001b[39m()\n\u001b[0;32m--> 164\u001b[0m         \u001b[38;5;28;01mraise\u001b[39;00m \u001b[38;5;167;01mException\u001b[39;00m(c\u001b[38;5;241m.\u001b[39mWARN \u001b[38;5;241m+\u001b[39m \u001b[38;5;124m'\u001b[39m\u001b[38;5;124mAtmosphere enforcement failed!\u001b[39m\u001b[38;5;124m'\u001b[39m \u001b[38;5;241m+\u001b[39m c\u001b[38;5;241m.\u001b[39mENDC)\n\u001b[1;32m    166\u001b[0m \u001b[38;5;66;03m#Phase 3: Gradients\u001b[39;00m\n\u001b[1;32m    167\u001b[0m \u001b[38;5;66;03m#=============================\u001b[39;00m\n\u001b[1;32m    168\u001b[0m gradient \u001b[38;5;241m=\u001b[39m np\u001b[38;5;241m.\u001b[39mzeros_like(params)\n",
      "\u001b[0;31mException\u001b[0m: \u001b[91mAtmosphere enforcement failed!\u001b[0m"
     ]
    }
   ],
   "source": [
    "kwargs = {}\n",
    "\n",
    "kwargs['verbosity'] = 0\n",
    "kwargs['time'] = False\n",
    "kwargs['parallelize'] = False\n",
    "kwargs['steps'] = 3000\n",
    "kwargs['learning rate'] = 0.05  #This learning rate has been revealed to me by god\n",
    "kwargs['costfactor'] = 1e5\n",
    "kwargs['ToF convergence tolerance'] = 1e-6\n",
    "kwargs['figures'] = False\n",
    "kwargs['kitty'] = 0\n",
    "kwargs['write to file'] = True\n",
    "kwargs['continuous running'] = True\n",
    "kwargs['cores'] = 6\n",
    "kwargs['file location'] = 'bigrun_uranus_uniform.hdf5'\n",
    "kwargs['minimum increase'] = 1\n",
    "\n",
    "Optimiser = OptToF(**kwargs)\n",
    "\n",
    "Optimiser.run(X)"
   ]
  },
  {
   "cell_type": "code",
   "execution_count": null,
   "id": "bc8eb99d-478f-4d46-99c9-5cc86e2deccd",
   "metadata": {},
   "outputs": [],
   "source": [
    "%run PyToF/StenOpt/ResultRead.py"
   ]
  },
  {
   "cell_type": "code",
   "execution_count": null,
   "id": "75b2e9a7-0017-496b-9f88-47f6d8c62138",
   "metadata": {},
   "outputs": [],
   "source": [
    "kwargs = {}\n",
    "\n",
    "kwargs['N']      = 2**10\n",
    "kwargs['G']      = 6.6743e-11\n",
    "kwargs['M_phys'] = 86.8127e24\n",
    "kwargs['R_phys'] = [25559*1e3, 'equatorial']\n",
    "kwargs['Period'] = 62080\n",
    "kwargs['P0']     = 1e5\n",
    "kwargs['Target_Js'] = [3509.291e-6, -35.522e-6] #https://doi.org/10.1051/0004-6361/202244537\n",
    "kwargs['Sigma_Js']  = [0.412e-6, 0.466e-6] #https://doi.org/10.1051/0004-6361/202244537\n",
    "kwargs['verbosity'] = 0\n",
    "kwargs['MaxIterShape'] = 100\n",
    "kwargs['use_atmosphere']      = True\n",
    "kwargs['atmosphere_until']    = 1e7\n",
    "\n",
    "param = [3.47500669e+05, 2.62723392e+00]\n",
    "\n",
    "def atmosphere(norm_radii, pressure, param=param):\n",
    "    return (pressure/param[0])**(param[1]/(param[1]+1))\n",
    "\n",
    "kwargs['atmosphere'] = atmosphere\n",
    "\n",
    "X = ClassToF.ToF(**kwargs)"
   ]
  },
  {
   "cell_type": "code",
   "execution_count": null,
   "id": "845ad35d-9d31-4494-870c-6e4de1781c15",
   "metadata": {},
   "outputs": [],
   "source": [
    "import matplotlib.pyplot as plt\n",
    "\n",
    "fig, axs = plt.subplots(1,2)\n",
    "\n",
    "for i in range(30):\n",
    "    data = np.loadtxt('test_'+str(i+1)+'.txt')\n",
    "    r = data[0,:]\n",
    "    rho = data[1,:]\n",
    "\n",
    "    X.li          = r\n",
    "    X.rhoi        = rho\n",
    "    X.m_rot_calc  = (2*np.pi/62080)**2*X.li[0]**3/(6.6743e-11*86.8127e24)\n",
    "\n",
    "    X.relax_to_shape(fixradius=True, fixmass=True, fixrot=True, pressurize=True)\n",
    "    \n",
    "    axs[0].plot(r, rho/1000)\n",
    "    axs[1].scatter(X.Js[1], X.Js[2])\n",
    "\n",
    "xerr = 0.412e-6\n",
    "yerr = 0.466e-6\n",
    "axs[1].errorbar([3509.291e-6], [-35.522e-6], xerr = [xerr], yerr= [yerr])\n",
    "axs[1].set_xlim((3509.291e-6-10*xerr, 3509.291e-6+10*xerr))\n",
    "axs[1].set_ylim((-35.522e-6-10*yerr, -35.522e-6+10*yerr))\n",
    "\n",
    "\n",
    "fig.show()\n",
    "\n"
   ]
  },
  {
   "cell_type": "code",
   "execution_count": null,
   "id": "d8e7517f-69cc-40fe-bbdf-b3e6c106c425",
   "metadata": {},
   "outputs": [],
   "source": []
  }
 ],
 "metadata": {
  "kernelspec": {
   "display_name": "Python 3 (ipykernel)",
   "language": "python",
   "name": "python3"
  },
  "language_info": {
   "codemirror_mode": {
    "name": "ipython",
    "version": 3
   },
   "file_extension": ".py",
   "mimetype": "text/x-python",
   "name": "python",
   "nbconvert_exporter": "python",
   "pygments_lexer": "ipython3",
   "version": "3.10.12"
  }
 },
 "nbformat": 4,
 "nbformat_minor": 5
}
